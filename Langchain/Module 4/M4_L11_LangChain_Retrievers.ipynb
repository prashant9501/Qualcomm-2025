{
 "cells": [
  {
   "cell_type": "markdown",
   "metadata": {
    "id": "jbw4wHV4zlKj"
   },
   "source": [
    "# Explore Various Retrieval Strategies with Retrievers in LangChain"
   ]
  },
  {
   "cell_type": "markdown",
   "metadata": {
    "id": "L1KvMtf54l0d"
   },
   "source": [
    "## Install OpenAI, and LangChain dependencies"
   ]
  },
  {
   "cell_type": "code",
   "execution_count": null,
   "metadata": {},
   "outputs": [],
   "source": [
    "!pip install langchain==0.3.11\n",
    "!pip install langchain-openai==0.2.12\n",
    "!pip install langchain-community==0.3.11"
   ]
  },
  {
   "cell_type": "markdown",
   "metadata": {
    "id": "TlfidBdQZRGj"
   },
   "source": [
    "## Install Chroma Vector DB and LangChain wrapper"
   ]
  },
  {
   "cell_type": "code",
   "execution_count": null,
   "metadata": {
    "id": "uZKQDgQURhmF"
   },
   "outputs": [],
   "source": [
    "!pip install langchain-chroma"
   ]
  },
  {
   "cell_type": "markdown",
   "metadata": {
    "id": "H9c37cLnSrbg"
   },
   "source": [
    "## Enter Open AI API Key"
   ]
  },
  {
   "cell_type": "code",
   "execution_count": null,
   "metadata": {
    "id": "cv3JzCEx_PAd"
   },
   "outputs": [],
   "source": [
    "from getpass import getpass\n",
    "\n",
    "OPENAI_KEY = getpass('Enter Open AI API Key: ')"
   ]
  },
  {
   "cell_type": "markdown",
   "metadata": {
    "id": "1T0s0um5Svfa"
   },
   "source": [
    "## Setup Environment Variables"
   ]
  },
  {
   "cell_type": "code",
   "execution_count": null,
   "metadata": {
    "id": "x1YSuHNF_lbh"
   },
   "outputs": [],
   "source": [
    "import os\n",
    "\n",
    "os.environ['OPENAI_API_KEY'] = OPENAI_KEY"
   ]
  },
  {
   "cell_type": "markdown",
   "metadata": {
    "id": "M8nHAP7XOGOj"
   },
   "source": [
    "### Open AI Embedding Models\n",
    "\n",
    "LangChain enables us to access Open AI embedding models which include the newest models: a smaller and highly efficient `text-embedding-3-small` model, and a larger and more powerful `text-embedding-3-large` model."
   ]
  },
  {
   "cell_type": "code",
   "execution_count": 4,
   "metadata": {
    "id": "jzrIVI2NAHC1"
   },
   "outputs": [],
   "source": [
    "from langchain_openai import OpenAIEmbeddings\n",
    "\n",
    "# details here: https://openai.com/blog/new-embedding-models-and-api-updates\n",
    "openai_embed_model = OpenAIEmbeddings(model='text-embedding-3-small')"
   ]
  },
  {
   "cell_type": "markdown",
   "metadata": {
    "id": "IO3_BzTbTBcJ"
   },
   "source": [
    "## Vector Databases\n",
    "\n",
    "One of the most common ways to store and search over unstructured data is to embed it and store the resulting embedding vectors, and then at query time to embed the unstructured query and retrieve the embedding vectors that are 'most similar' to the embedded query. A vector database takes care of storing embedded data and performing vector search for you.\n",
    "\n",
    "### Chroma Vector DB\n",
    "\n",
    "[Chroma](https://docs.trychroma.com/getting-started) is a AI-native open-source vector database focused on developer productivity and happiness. Chroma is licensed under Apache 2.0."
   ]
  },
  {
   "cell_type": "markdown",
   "metadata": {
    "id": "-PnV9lAXZw9a"
   },
   "source": [
    "### Create a Vector DB and persist on disk\n",
    "\n",
    "Here we initialize a connection to a Chroma vector DB client, and also we want to save to disk, so we simply initialize the Chroma client and pass the directory where we want the data to be saved to."
   ]
  },
  {
   "cell_type": "code",
   "execution_count": 5,
   "metadata": {
    "id": "oABVR8m-6ZiY"
   },
   "outputs": [],
   "source": [
    "docs = [\n",
    " 'Quantum mechanics describes the behavior of very small particles.',\n",
    " 'Photosynthesis is the process by which green plants make food using sunlight.',\n",
    " 'Artificial Intelligence aims to create machines that can think and learn.',\n",
    " 'The pyramids of Egypt are historical monuments that have stood for thousands of years.',\n",
    " 'New Delhi is the capital of India and the seat of all three branches of the Government of India.',\n",
    " 'Biology is the study of living organisms and their interactions with the environment.',\n",
    " 'Music therapy can aid in the mental well-being of individuals.',\n",
    " 'Mumbai is the financial capital and the most populous city of India. It is the financial, commercial, and entertainment capital of South Asia.',\n",
    " 'The Milky Way is just one of billions of galaxies in the universe.',\n",
    " 'Economic theories help understand the distribution of resources in society.',\n",
    " 'Kolkata is the de facto cultural capital of India and a historically and culturally significant city. Calcutta served as the de facto capital of India until 1911.',\n",
    " 'Yoga is an ancient practice that involves physical postures and meditation.'\n",
    "]"
   ]
  },
  {
   "cell_type": "code",
   "execution_count": 6,
   "metadata": {
    "id": "kRYfcrsHUxyZ"
   },
   "outputs": [],
   "source": [
    "from langchain_chroma import Chroma\n",
    "\n",
    "# create vector DB of docs and embeddings - takes 1 min on Colab\n",
    "chroma_db = Chroma.from_texts(texts=docs, collection_name='db_docs',\n",
    "                              # need to set the distance function to cosine else it uses euclidean by default\n",
    "                              # check https://docs.trychroma.com/guides#changing-the-distance-function\n",
    "                              collection_metadata={\"hnsw:space\": \"cosine\"},\n",
    "                              embedding=openai_embed_model)"
   ]
  },
  {
   "cell_type": "markdown",
   "metadata": {
    "id": "bprZC4S6TLfj"
   },
   "source": [
    "## Vector Database Retrievers\n",
    "\n",
    "Here we will explore the following retrieval strategies on our Vector Database:\n",
    "\n",
    "- Similarity or Ranking based Retrieval\n",
    "- Similarity with Threshold Retrieval\n",
    "- Custom Retriever with Similarity Scores + Thresholding\n",
    "- Multi Query Retrieval\n",
    "- Contextual Compression Retrieval\n",
    "- Ensemble Retrieval"
   ]
  },
  {
   "cell_type": "markdown",
   "metadata": {
    "id": "269fFuebBr5P"
   },
   "source": [
    "### Similarity or Ranking based Retrieval\n",
    "\n",
    "We use cosine similarity here and retrieve the top 3 similar documents based on the user input query"
   ]
  },
  {
   "cell_type": "code",
   "execution_count": 7,
   "metadata": {
    "id": "ST7PDWG2b0ln"
   },
   "outputs": [],
   "source": [
    "similarity_retriever = chroma_db.as_retriever(search_type=\"similarity\",\n",
    "                                              search_kwargs={\"k\": 3})"
   ]
  },
  {
   "cell_type": "code",
   "execution_count": 8,
   "metadata": {
    "id": "4czRBjWLe8JH"
   },
   "outputs": [
    {
     "data": {
      "text/plain": [
       "[Document(metadata={}, page_content='New Delhi is the capital of India and the seat of all three branches of the Government of India.'),\n",
       " Document(metadata={}, page_content='Mumbai is the financial capital and the most populous city of India. It is the financial, commercial, and entertainment capital of South Asia.'),\n",
       " Document(metadata={}, page_content='Kolkata is the de facto cultural capital of India and a historically and culturally significant city. Calcutta served as the de facto capital of India until 1911.')]"
      ]
     },
     "execution_count": 8,
     "metadata": {},
     "output_type": "execute_result"
    }
   ],
   "source": [
    "query = \"what is the capital of India?\"\n",
    "top3_docs = similarity_retriever.invoke(query)\n",
    "top3_docs"
   ]
  },
  {
   "cell_type": "code",
   "execution_count": 9,
   "metadata": {
    "id": "CYGmZdV--qz_"
   },
   "outputs": [
    {
     "data": {
      "text/plain": [
       "[Document(metadata={}, page_content='Kolkata is the de facto cultural capital of India and a historically and culturally significant city. Calcutta served as the de facto capital of India until 1911.'),\n",
       " Document(metadata={}, page_content='New Delhi is the capital of India and the seat of all three branches of the Government of India.'),\n",
       " Document(metadata={}, page_content='Mumbai is the financial capital and the most populous city of India. It is the financial, commercial, and entertainment capital of South Asia.')]"
      ]
     },
     "execution_count": 9,
     "metadata": {},
     "output_type": "execute_result"
    }
   ],
   "source": [
    "query = \"what is the old capital of India?\"\n",
    "top3_docs = similarity_retriever.invoke(query)\n",
    "top3_docs"
   ]
  },
  {
   "cell_type": "code",
   "execution_count": 10,
   "metadata": {
    "id": "ZJmJRjlV_kvS"
   },
   "outputs": [
    {
     "data": {
      "text/plain": [
       "[Document(metadata={}, page_content='Photosynthesis is the process by which green plants make food using sunlight.'),\n",
       " Document(metadata={}, page_content='Biology is the study of living organisms and their interactions with the environment.'),\n",
       " Document(metadata={}, page_content='Artificial Intelligence aims to create machines that can think and learn.')]"
      ]
     },
     "execution_count": 10,
     "metadata": {},
     "output_type": "execute_result"
    }
   ],
   "source": [
    "query = \"how do plants make food?\"\n",
    "top3_docs = similarity_retriever.invoke(query)\n",
    "top3_docs"
   ]
  },
  {
   "cell_type": "markdown",
   "metadata": {
    "id": "Wk2cdAjpB5TE"
   },
   "source": [
    "We use maximum marginal relevance ranking here and retrieve the top 3 similar documents based on the user input query"
   ]
  },
  {
   "cell_type": "code",
   "execution_count": 11,
   "metadata": {
    "id": "TLlTPW5vfGIo"
   },
   "outputs": [],
   "source": [
    "mmr_retriever = chroma_db.as_retriever(search_type=\"mmr\",\n",
    "                                       search_kwargs={\"k\": 3,\n",
    "                                                      'fetch_k': 10})"
   ]
  },
  {
   "cell_type": "code",
   "execution_count": 12,
   "metadata": {
    "id": "mHztMoMDfU2D"
   },
   "outputs": [
    {
     "data": {
      "text/plain": [
       "[Document(metadata={}, page_content='New Delhi is the capital of India and the seat of all three branches of the Government of India.'),\n",
       " Document(metadata={}, page_content='Mumbai is the financial capital and the most populous city of India. It is the financial, commercial, and entertainment capital of South Asia.'),\n",
       " Document(metadata={}, page_content='Kolkata is the de facto cultural capital of India and a historically and culturally significant city. Calcutta served as the de facto capital of India until 1911.')]"
      ]
     },
     "execution_count": 12,
     "metadata": {},
     "output_type": "execute_result"
    }
   ],
   "source": [
    "query = \"what is the capital of India?\"\n",
    "top3_docs = mmr_retriever.invoke(query)\n",
    "top3_docs"
   ]
  },
  {
   "cell_type": "code",
   "execution_count": 13,
   "metadata": {
    "id": "I3wDFqdW_tA8"
   },
   "outputs": [
    {
     "data": {
      "text/plain": [
       "[Document(metadata={}, page_content='Kolkata is the de facto cultural capital of India and a historically and culturally significant city. Calcutta served as the de facto capital of India until 1911.'),\n",
       " Document(metadata={}, page_content='New Delhi is the capital of India and the seat of all three branches of the Government of India.'),\n",
       " Document(metadata={}, page_content='Yoga is an ancient practice that involves physical postures and meditation.')]"
      ]
     },
     "execution_count": 13,
     "metadata": {},
     "output_type": "execute_result"
    }
   ],
   "source": [
    "query = \"what is the old capital of India?\"\n",
    "top3_docs = mmr_retriever.invoke(query)\n",
    "top3_docs"
   ]
  },
  {
   "cell_type": "code",
   "execution_count": 14,
   "metadata": {
    "id": "XrY8wGD__xR8"
   },
   "outputs": [
    {
     "data": {
      "text/plain": [
       "[Document(metadata={}, page_content='Photosynthesis is the process by which green plants make food using sunlight.'),\n",
       " Document(metadata={}, page_content='Artificial Intelligence aims to create machines that can think and learn.'),\n",
       " Document(metadata={}, page_content='Economic theories help understand the distribution of resources in society.')]"
      ]
     },
     "execution_count": 14,
     "metadata": {},
     "output_type": "execute_result"
    }
   ],
   "source": [
    "query = \"how do plants make food?\"\n",
    "top3_docs = mmr_retriever.invoke(query)\n",
    "top3_docs"
   ]
  },
  {
   "cell_type": "markdown",
   "metadata": {
    "id": "8foBD2xmCDYc"
   },
   "source": [
    "### Similarity with Threshold Retrieval\n",
    "\n",
    "We use cosine similarity here and retrieve the top 3 similar documents based on the user input query and also introduce a cutoff to not return any documents which are below a certain similarity threshold"
   ]
  },
  {
   "cell_type": "code",
   "execution_count": 15,
   "metadata": {
    "id": "6ROSNwqeCMRS"
   },
   "outputs": [],
   "source": [
    "similarity_threshold_retriever = chroma_db.as_retriever(search_type=\"similarity_score_threshold\",\n",
    "                                                        search_kwargs={\"k\": 3,\n",
    "                                                                       \"score_threshold\": 0.3})"
   ]
  },
  {
   "cell_type": "code",
   "execution_count": 16,
   "metadata": {
    "id": "Nv93k_QpCZv7"
   },
   "outputs": [
    {
     "data": {
      "text/plain": [
       "[Document(metadata={}, page_content='New Delhi is the capital of India and the seat of all three branches of the Government of India.'),\n",
       " Document(metadata={}, page_content='Mumbai is the financial capital and the most populous city of India. It is the financial, commercial, and entertainment capital of South Asia.'),\n",
       " Document(metadata={}, page_content='Kolkata is the de facto cultural capital of India and a historically and culturally significant city. Calcutta served as the de facto capital of India until 1911.')]"
      ]
     },
     "execution_count": 16,
     "metadata": {},
     "output_type": "execute_result"
    }
   ],
   "source": [
    "query = \"what is the capital of India?\"\n",
    "top3_docs = similarity_threshold_retriever.invoke(query)\n",
    "top3_docs"
   ]
  },
  {
   "cell_type": "code",
   "execution_count": 17,
   "metadata": {
    "id": "fpu7Wzo6Cre9"
   },
   "outputs": [
    {
     "data": {
      "text/plain": [
       "[Document(metadata={}, page_content='Kolkata is the de facto cultural capital of India and a historically and culturally significant city. Calcutta served as the de facto capital of India until 1911.'),\n",
       " Document(metadata={}, page_content='New Delhi is the capital of India and the seat of all three branches of the Government of India.'),\n",
       " Document(metadata={}, page_content='Mumbai is the financial capital and the most populous city of India. It is the financial, commercial, and entertainment capital of South Asia.')]"
      ]
     },
     "execution_count": 17,
     "metadata": {},
     "output_type": "execute_result"
    }
   ],
   "source": [
    "query = \"what is the old capital of India?\"\n",
    "top3_docs = similarity_threshold_retriever.invoke(query)\n",
    "top3_docs"
   ]
  },
  {
   "cell_type": "code",
   "execution_count": 18,
   "metadata": {
    "id": "nmALobtYCy0-"
   },
   "outputs": [
    {
     "data": {
      "text/plain": [
       "[Document(metadata={}, page_content='Photosynthesis is the process by which green plants make food using sunlight.')]"
      ]
     },
     "execution_count": 18,
     "metadata": {},
     "output_type": "execute_result"
    }
   ],
   "source": [
    "query = \"how do plants make food?\"\n",
    "top3_docs = similarity_threshold_retriever.invoke(query)\n",
    "top3_docs"
   ]
  },
  {
   "cell_type": "markdown",
   "metadata": {
    "id": "05zZy9jCLEbC"
   },
   "source": [
    "### Custom Retriever with Similarity Scores + Thresholding\n",
    "\n",
    "Here we will create a custom retriever which will:\n",
    "\n",
    "- Retrieve documents with cosine distance\n",
    "- Convert to similarity score and apply thresholding\n",
    "- Return topk documents above a similarity threshold"
   ]
  },
  {
   "cell_type": "code",
   "execution_count": 19,
   "metadata": {
    "id": "hwU_kMxIKQBG"
   },
   "outputs": [
    {
     "data": {
      "text/plain": [
       "[(Document(metadata={}, page_content='Photosynthesis is the process by which green plants make food using sunlight.'),\n",
       "  0.35380274057388306),\n",
       " (Document(metadata={}, page_content='Biology is the study of living organisms and their interactions with the environment.'),\n",
       "  0.8317177891731262),\n",
       " (Document(metadata={}, page_content='Artificial Intelligence aims to create machines that can think and learn.'),\n",
       "  0.8765133619308472)]"
      ]
     },
     "execution_count": 19,
     "metadata": {},
     "output_type": "execute_result"
    }
   ],
   "source": [
    "query = 'how do plants make food?'\n",
    "chroma_db.similarity_search_with_score(query, k=3)"
   ]
  },
  {
   "cell_type": "code",
   "execution_count": 20,
   "metadata": {
    "id": "ArhLcC32J-OC"
   },
   "outputs": [
    {
     "data": {
      "text/plain": [
       "<function langchain_core.vectorstores.base.VectorStore._cosine_relevance_score_fn(distance: 'float') -> 'float'>"
      ]
     },
     "execution_count": 20,
     "metadata": {},
     "output_type": "execute_result"
    }
   ],
   "source": [
    "chroma_db._select_relevance_score_fn()"
   ]
  },
  {
   "cell_type": "code",
   "execution_count": 21,
   "metadata": {
    "id": "3WlBCDeTKLM2"
   },
   "outputs": [
    {
     "data": {
      "text/plain": [
       "0.64625"
      ]
     },
     "execution_count": 21,
     "metadata": {},
     "output_type": "execute_result"
    }
   ],
   "source": [
    "# converts cosine distance to similarity; cosine_similarity = 1 - cosine_distance\n",
    "cosine_sim = chroma_db._select_relevance_score_fn()\n",
    "cosine_sim(0.35375)"
   ]
  },
  {
   "cell_type": "code",
   "execution_count": 22,
   "metadata": {
    "id": "YgOMpLEnDnoi"
   },
   "outputs": [],
   "source": [
    "from typing import List\n",
    "from langchain_core.documents import Document\n",
    "from langchain_core.runnables import chain\n",
    "\n",
    "@chain\n",
    "def custom_retriever(query: str, topk=3, threshold_score=0.3) -> List[Document]:\n",
    "    # get similarity conversion function (converts cosine distance to similarity)\n",
    "    cosine_sim = chroma_db._select_relevance_score_fn()\n",
    "    # get topk documents with lowest cosine distance\n",
    "    docs, scores = zip(*chroma_db.similarity_search_with_score(query, k=topk))\n",
    "    final_docs = []\n",
    "    for doc, score in zip(docs, scores):\n",
    "        # convert cosine distance to similarity\n",
    "        score = cosine_sim(score)\n",
    "        doc.metadata[\"score\"] = round(score, 3)\n",
    "        # check if score is above threshold\n",
    "        if score > threshold_score:\n",
    "            final_docs.append(doc)\n",
    "\n",
    "    return final_docs"
   ]
  },
  {
   "cell_type": "code",
   "execution_count": 23,
   "metadata": {
    "id": "Tt2ihp3yDFaE"
   },
   "outputs": [
    {
     "data": {
      "text/plain": [
       "[Document(metadata={'score': 0.69}, page_content='Mumbai is the financial capital and the most populous city of India. It is the financial, commercial, and entertainment capital of South Asia.'),\n",
       " Document(metadata={'score': 0.54}, page_content='New Delhi is the capital of India and the seat of all three branches of the Government of India.')]"
      ]
     },
     "execution_count": 23,
     "metadata": {},
     "output_type": "execute_result"
    }
   ],
   "source": [
    "query = \"what is the financial capital of India?\"\n",
    "top3_docs = custom_retriever.invoke(query, topk=3, threshold_score=0.51)\n",
    "top3_docs"
   ]
  },
  {
   "cell_type": "code",
   "execution_count": 24,
   "metadata": {
    "id": "kLk3PAu5EOGJ"
   },
   "outputs": [
    {
     "data": {
      "text/plain": [
       "[Document(metadata={'score': 0.646}, page_content='Photosynthesis is the process by which green plants make food using sunlight.')]"
      ]
     },
     "execution_count": 24,
     "metadata": {},
     "output_type": "execute_result"
    }
   ],
   "source": [
    "query = 'how do plants make food?'\n",
    "top3_docs = custom_retriever.invoke(query, topk=3, threshold_score=0.5)\n",
    "top3_docs"
   ]
  },
  {
   "cell_type": "markdown",
   "metadata": {
    "id": "6HKdIe2_wIBR"
   },
   "source": [
    "### Multi Query Retrieval\n",
    "\n",
    "Retrieval may produce different results with subtle changes in query wording, or if the embeddings do not capture the semantics of the data well. Prompt engineering / tuning is sometimes done to manually address these problems, but can be tedious.\n",
    "\n",
    "The [`MultiQueryRetriever`](https://api.python.langchain.com/en/latest/retrievers/langchain.retrievers.multi_query.MultiQueryRetriever.html) automates the process of prompt tuning by using an LLM to generate multiple queries from different perspectives for a given user input query. For each query, it retrieves a set of relevant documents and takes the unique union across all queries to get a larger set of potentially relevant documents."
   ]
  },
  {
   "cell_type": "code",
   "execution_count": 25,
   "metadata": {
    "id": "qmfVRrRujxrA"
   },
   "outputs": [],
   "source": [
    "from langchain_openai import ChatOpenAI\n",
    "\n",
    "chatgpt = ChatOpenAI(model_name=\"gpt-4o-mini\", temperature=0)"
   ]
  },
  {
   "cell_type": "code",
   "execution_count": 26,
   "metadata": {
    "id": "s3gU4HPvfjs7"
   },
   "outputs": [],
   "source": [
    "from langchain.retrievers.multi_query import MultiQueryRetriever\n",
    "# Set logging for the queries\n",
    "import logging\n",
    "\n",
    "similarity_retriever = chroma_db.as_retriever(search_type=\"similarity\",\n",
    "                                              search_kwargs={\"k\": 3})\n",
    "\n",
    "mq_retriever = MultiQueryRetriever.from_llm(\n",
    "    retriever=similarity_retriever, llm=chatgpt\n",
    ")\n",
    "\n",
    "logging.basicConfig()\n",
    "# so we can see what queries are generated by the LLM\n",
    "logging.getLogger(\"langchain.retrievers.multi_query\").setLevel(logging.INFO)"
   ]
  },
  {
   "cell_type": "code",
   "execution_count": 27,
   "metadata": {
    "id": "KZJBIsl8xC_N"
   },
   "outputs": [
    {
     "name": "stderr",
     "output_type": "stream",
     "text": [
      "INFO:langchain.retrievers.multi_query:Generated queries: ['What is the capital city of India in terms of its financial significance?  ', 'Which city in India serves as the financial hub of the country?  ', 'Can you tell me about the financial capital of India?']\n"
     ]
    },
    {
     "data": {
      "text/plain": [
       "[Document(metadata={}, page_content='Mumbai is the financial capital and the most populous city of India. It is the financial, commercial, and entertainment capital of South Asia.'),\n",
       " Document(metadata={}, page_content='New Delhi is the capital of India and the seat of all three branches of the Government of India.'),\n",
       " Document(metadata={}, page_content='Kolkata is the de facto cultural capital of India and a historically and culturally significant city. Calcutta served as the de facto capital of India until 1911.')]"
      ]
     },
     "execution_count": 27,
     "metadata": {},
     "output_type": "execute_result"
    }
   ],
   "source": [
    "query = \"financial capital of India?\"\n",
    "docs = mq_retriever.invoke(query)\n",
    "docs"
   ]
  },
  {
   "cell_type": "code",
   "execution_count": 28,
   "metadata": {
    "id": "TVBeusuSyVo3"
   },
   "outputs": [
    {
     "name": "stderr",
     "output_type": "stream",
     "text": [
      "INFO:langchain.retrievers.multi_query:Generated queries: ['What was the former capital of India?  ', \"Which city served as India's capital before the current one?  \", 'Can you tell me the historical capital of India?']\n"
     ]
    },
    {
     "data": {
      "text/plain": [
       "[Document(metadata={}, page_content='Kolkata is the de facto cultural capital of India and a historically and culturally significant city. Calcutta served as the de facto capital of India until 1911.'),\n",
       " Document(metadata={}, page_content='New Delhi is the capital of India and the seat of all three branches of the Government of India.'),\n",
       " Document(metadata={}, page_content='Mumbai is the financial capital and the most populous city of India. It is the financial, commercial, and entertainment capital of South Asia.')]"
      ]
     },
     "execution_count": 28,
     "metadata": {},
     "output_type": "execute_result"
    }
   ],
   "source": [
    "query = \"old capital of India?\"\n",
    "docs = mq_retriever.invoke(query)\n",
    "docs"
   ]
  },
  {
   "cell_type": "markdown",
   "metadata": {
    "id": "qKkMcQpf3lBs"
   },
   "source": [
    "### Contextual Compression Retrieval\n",
    "\n",
    "The information most relevant to a query may be buried in a document with a lot of irrelevant text. Passing that full document through your application can lead to more expensive LLM calls and poorer responses.\n",
    "\n",
    "Contextual compression is meant to fix this. The idea is simple: instead of immediately returning retrieved documents as-is, you can compress them using the context of the given query, so that only the relevant information is returned.\n",
    "\n",
    "This compression can happen in the form of:\n",
    "\n",
    "- Remove parts of the content of retrieved documents which are not relevant to the query. This is done by extracting only relevant parts of the document to the given query\n",
    "\n",
    "- Filter out documents which are not relevant to the given query but do not remove content from the document"
   ]
  },
  {
   "cell_type": "markdown",
   "metadata": {
    "id": "pNMpbsi64QcM"
   },
   "source": [
    "Here we wrap our base cosine distance retriever with a `ContextualCompressionRetriever`. Then we'll add an `LLMChainExtractor`, which will iterate over the initially returned documents and extract from each only the content that is relevant to the query."
   ]
  },
  {
   "cell_type": "code",
   "execution_count": 29,
   "metadata": {
    "id": "b14n_2AHykTf"
   },
   "outputs": [],
   "source": [
    "from langchain.retrievers import ContextualCompressionRetriever\n",
    "from langchain.retrievers.document_compressors import LLMChainExtractor\n",
    "\n",
    "# simple cosine distance based retriever\n",
    "similarity_retriever = chroma_db.as_retriever(search_type=\"similarity\",\n",
    "                                              search_kwargs={\"k\": 3})\n",
    "\n",
    "# extracts from each document only the content that is relevant to the query\n",
    "compressor = LLMChainExtractor.from_llm(llm=chatgpt)\n",
    "\n",
    "# retrieves the documents similar to query and then applies the compressor\n",
    "compression_retriever = ContextualCompressionRetriever(\n",
    "    base_compressor=compressor, base_retriever=similarity_retriever\n",
    ")"
   ]
  },
  {
   "cell_type": "code",
   "execution_count": 30,
   "metadata": {
    "id": "UxoVG1dt0GQb"
   },
   "outputs": [
    {
     "data": {
      "text/plain": [
       "[Document(metadata={}, page_content='Mumbai is the financial capital of India.')]"
      ]
     },
     "execution_count": 30,
     "metadata": {},
     "output_type": "execute_result"
    }
   ],
   "source": [
    "query = \"what is the financial capital of India?\"\n",
    "docs = compression_retriever.invoke(query)\n",
    "docs"
   ]
  },
  {
   "cell_type": "code",
   "execution_count": 31,
   "metadata": {
    "id": "zW64q3FF0M-b"
   },
   "outputs": [
    {
     "data": {
      "text/plain": [
       "[Document(metadata={}, page_content='Calcutta served as the de facto capital of India until 1911.')]"
      ]
     },
     "execution_count": 31,
     "metadata": {},
     "output_type": "execute_result"
    }
   ],
   "source": [
    "query = \"what is the old capital of India?\"\n",
    "docs = compression_retriever.invoke(query)\n",
    "docs"
   ]
  },
  {
   "cell_type": "markdown",
   "metadata": {
    "id": "URTONl5c4aLe"
   },
   "source": [
    "The `LLMChainFilter` is slightly simpler but more robust compressor that uses an LLM chain to decide which of the initially retrieved documents to filter out and which ones to return, without manipulating the document contents."
   ]
  },
  {
   "cell_type": "code",
   "execution_count": 32,
   "metadata": {
    "id": "fs-INms_0VTX"
   },
   "outputs": [],
   "source": [
    "from langchain.retrievers.document_compressors import LLMChainFilter\n",
    "\n",
    "#  decides which of the initially retrieved documents to filter out and which ones to return\n",
    "_filter = LLMChainFilter.from_llm(llm=chatgpt)\n",
    "\n",
    "# retrieves the documents similar to query and then applies the filter\n",
    "compression_retriever = ContextualCompressionRetriever(\n",
    "    base_compressor=_filter, base_retriever=similarity_retriever\n",
    ")"
   ]
  },
  {
   "cell_type": "code",
   "execution_count": 33,
   "metadata": {
    "id": "bgKB3_lV17Hh"
   },
   "outputs": [
    {
     "data": {
      "text/plain": [
       "[Document(metadata={}, page_content='Mumbai is the financial capital and the most populous city of India. It is the financial, commercial, and entertainment capital of South Asia.')]"
      ]
     },
     "execution_count": 33,
     "metadata": {},
     "output_type": "execute_result"
    }
   ],
   "source": [
    "query = \"what is the financial capital of India?\"\n",
    "docs = compression_retriever.invoke(query)\n",
    "docs"
   ]
  },
  {
   "cell_type": "code",
   "execution_count": 34,
   "metadata": {
    "id": "AyhPhAld1-H3"
   },
   "outputs": [
    {
     "data": {
      "text/plain": [
       "[Document(metadata={}, page_content='Kolkata is the de facto cultural capital of India and a historically and culturally significant city. Calcutta served as the de facto capital of India until 1911.')]"
      ]
     },
     "execution_count": 34,
     "metadata": {},
     "output_type": "execute_result"
    }
   ],
   "source": [
    "query = \"what is the old capital of India?\"\n",
    "docs = compression_retriever.invoke(query)\n",
    "docs"
   ]
  },
  {
   "cell_type": "code",
   "execution_count": 35,
   "metadata": {
    "id": "zGdq0G7v2FAc"
   },
   "outputs": [
    {
     "data": {
      "text/plain": [
       "[Document(metadata={}, page_content='Photosynthesis is the process by which green plants make food using sunlight.')]"
      ]
     },
     "execution_count": 35,
     "metadata": {},
     "output_type": "execute_result"
    }
   ],
   "source": [
    "query = \"how do plants live?\"\n",
    "docs = compression_retriever.invoke(query)\n",
    "docs"
   ]
  },
  {
   "cell_type": "markdown",
   "metadata": {
    "id": "9YK8BBMBAU9o"
   },
   "source": [
    "### Ensemble Retrieval\n",
    "\n",
    "The `EnsembleRetriever` takes a list of retrievers as input and ensemble the results of each of their retrievals and rerank the results based on the [Reciprocal Rank Fusion](https://plg.uwaterloo.ca/~gvcormac/cormacksigir09-rrf.pdf) algorithm."
   ]
  },
  {
   "cell_type": "code",
   "execution_count": 36,
   "metadata": {
    "id": "UgZ4eMFc2GgI"
   },
   "outputs": [],
   "source": [
    "from langchain.retrievers import EnsembleRetriever\n",
    "\n",
    "# simple cosine distance based retriever\n",
    "similarity_retriever = chroma_db.as_retriever(search_type=\"similarity\",\n",
    "                                              search_kwargs={\"k\": 3})\n",
    "\n",
    "# retrieves the documents similar to query and then applies the filter\n",
    "compression_retriever = ContextualCompressionRetriever(\n",
    "    base_compressor=_filter, base_retriever=similarity_retriever\n",
    ")\n",
    "\n",
    "\n",
    "ensemble_retriever = EnsembleRetriever(\n",
    "    retrievers=[compression_retriever, similarity_retriever],\n",
    "    weights=[0.7, 0.3]\n",
    ")"
   ]
  },
  {
   "cell_type": "code",
   "execution_count": 37,
   "metadata": {
    "id": "8dVz4JGVBQTO"
   },
   "outputs": [
    {
     "data": {
      "text/plain": [
       "[Document(metadata={}, page_content='Mumbai is the financial capital and the most populous city of India. It is the financial, commercial, and entertainment capital of South Asia.'),\n",
       " Document(metadata={}, page_content='New Delhi is the capital of India and the seat of all three branches of the Government of India.'),\n",
       " Document(metadata={}, page_content='Kolkata is the de facto cultural capital of India and a historically and culturally significant city. Calcutta served as the de facto capital of India until 1911.')]"
      ]
     },
     "execution_count": 37,
     "metadata": {},
     "output_type": "execute_result"
    }
   ],
   "source": [
    "query = \"what is the financial capital of India?\"\n",
    "docs = ensemble_retriever.invoke(query)\n",
    "docs"
   ]
  },
  {
   "cell_type": "code",
   "execution_count": 38,
   "metadata": {
    "id": "dFtoRwndBZuc"
   },
   "outputs": [
    {
     "data": {
      "text/plain": [
       "[Document(metadata={}, page_content='Photosynthesis is the process by which green plants make food using sunlight.'),\n",
       " Document(metadata={}, page_content='Biology is the study of living organisms and their interactions with the environment.'),\n",
       " Document(metadata={}, page_content='Music therapy can aid in the mental well-being of individuals.')]"
      ]
     },
     "execution_count": 38,
     "metadata": {},
     "output_type": "execute_result"
    }
   ],
   "source": [
    "query = \"how do plants live?\"\n",
    "docs = ensemble_retriever.invoke(query)\n",
    "docs"
   ]
  },
  {
   "cell_type": "markdown",
   "metadata": {
    "id": "OfQj71WHCKc8"
   },
   "source": [
    "We will cover more retrieval strategies in the Advanced Course on RAG and LangChain in the future including:\n",
    "\n",
    "- Self Query Retrieval\n",
    "- Hybrid Search Retrieval\n",
    "- Parent Document Retrieval\n",
    "- Reranker Retrieval\n",
    "\n",
    "and more..."
   ]
  }
 ],
 "metadata": {
  "colab": {
   "provenance": []
  },
  "kernelspec": {
   "display_name": "Python 3 (ipykernel)",
   "language": "python",
   "name": "python3"
  },
  "language_info": {
   "codemirror_mode": {
    "name": "ipython",
    "version": 3
   },
   "file_extension": ".py",
   "mimetype": "text/x-python",
   "name": "python",
   "nbconvert_exporter": "python",
   "pygments_lexer": "ipython3",
   "version": "3.11.7"
  }
 },
 "nbformat": 4,
 "nbformat_minor": 4
}
